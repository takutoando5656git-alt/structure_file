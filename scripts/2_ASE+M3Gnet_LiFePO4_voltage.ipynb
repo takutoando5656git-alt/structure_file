{
 "cells": [
  {
   "cell_type": "markdown",
   "id": "f8fa773f",
   "metadata": {},
   "source": [
    "# ASEを用いた分子シミュレーション  (M3GNetの場合)\n",
    "<BR>\n",
    "\n",
    "参考文献（M3GNet）<BR>\n",
    "- GITHUB https://github.com/materialsvirtuallab/m3gnet\n",
    "- Chen, C., Ong, S.P. A universal graph deep learning interatomic potential for the periodic table. Nat Comput Sci 2, 718–728 (2022). https://doi.org/10.1038/s43588-022-00349-3. (論文引用先)\n",
    "\n",
    "  \n",
    "作成：中山将伸 (2023.11.1)  再配布禁止<BR>"
   ]
  },
  {
   "cell_type": "markdown",
   "id": "f3f56abf",
   "metadata": {},
   "source": [
    "## 【必須】ASEモジュール他のインポート\n"
   ]
  },
  {
   "cell_type": "code",
   "execution_count": 1,
   "id": "54a0730b",
   "metadata": {},
   "outputs": [],
   "source": [
    "import numpy as np\n",
    "import math, random\n",
    "\n",
    "import os,sys,csv,glob,shutil,re,time\n",
    "from time import perf_counter\n",
    "from joblib import Parallel, delayed\n",
    "args = sys.argv\n",
    "\n",
    "# sklearn\n",
    "# from sklearn.metrics import mean_absolute_error\n",
    "import matplotlib.pyplot as plt\n",
    "\n",
    "import ase #\n",
    "from ase.constraints import FixAtoms, FixedPlane, FixBondLength, UnitCellFilter\n",
    "from ase.optimize import LBFGS\n",
    "from ase.md.velocitydistribution import MaxwellBoltzmannDistribution, Stationary\n",
    "from ase.md.verlet import VelocityVerlet\n",
    "from ase.md.langevin import Langevin\n",
    "from ase.md import MDLogger\n",
    "from ase import Atoms\n",
    "from ase.io import read, write\n",
    "from ase.io import Trajectory\n",
    "from ase import units\n",
    "from ase.build import bulk, make_supercell\n",
    "from ase.visualize import view\n"
   ]
  },
  {
   "cell_type": "markdown",
   "id": "5d3e6482",
   "metadata": {},
   "source": [
    "## 【必須】Atoms object 入力"
   ]
  },
  {
   "cell_type": "code",
   "execution_count": 2,
   "id": "9719da5b",
   "metadata": {},
   "outputs": [
    {
     "name": "stdout",
     "output_type": "stream",
     "text": [
      "composition: Li4Fe4P4O16 Fe4P4O16 Li2\n",
      "number of guest ions: 4 0 2\n"
     ]
    }
   ],
   "source": [
    "#結晶構造ファイルの読み込み\n",
    "\n",
    "inpf1=\"./inputs/LiFePO4.cif\"   #　脱リチウム前（放電後）の構造\n",
    "inpf2=\"./inputs/FePO4.cif\"     #  脱リチウム後（充電後）の構造\n",
    "inpf3=\"./inputs/Li.cif\"        #  リチウム金属\n",
    "guestion=\"Li\"           #　ゲストイオン種\n",
    "charge_gi=1             #  ゲストイオンの電荷\n",
    "\n",
    "atoms1=read(inpf1)\n",
    "atoms2=read(inpf2)\n",
    "atoms3=read(inpf3)\n",
    "\n",
    "num_gi1=atoms1.get_chemical_symbols().count(guestion)\n",
    "num_gi2=atoms2.get_chemical_symbols().count(guestion)\n",
    "num_gi3=atoms3.get_chemical_symbols().count(guestion)\n",
    "\n",
    "\n",
    "print (\"composition:\", atoms1.symbols, atoms2.symbols, atoms3.symbols)\n",
    "print (\"number of guest ions:\", num_gi1, num_gi2, num_gi3)\n"
   ]
  },
  {
   "cell_type": "markdown",
   "id": "455c1ea8",
   "metadata": {},
   "source": [
    "## 【必須】Atoms objectにM3GNetのポテンシャルを導入"
   ]
  },
  {
   "cell_type": "code",
   "execution_count": 3,
   "id": "762ec51a",
   "metadata": {},
   "outputs": [
    {
     "name": "stderr",
     "output_type": "stream",
     "text": [
      "/Library/Frameworks/Python.framework/Versions/3.11/lib/python3.11/site-packages/matgl/apps/pes.py:69: UserWarning: To copy construct from a tensor, it is recommended to use sourceTensor.clone().detach() or sourceTensor.clone().detach().requires_grad_(True), rather than torch.tensor(sourceTensor).\n",
      "  self.element_refs = AtomRef(property_offset=torch.tensor(element_refs, dtype=matgl.float_th))\n",
      "/Library/Frameworks/Python.framework/Versions/3.11/lib/python3.11/site-packages/matgl/apps/pes.py:75: UserWarning: To copy construct from a tensor, it is recommended to use sourceTensor.clone().detach() or sourceTensor.clone().detach().requires_grad_(True), rather than torch.tensor(sourceTensor).\n",
      "  self.register_buffer(\"data_mean\", torch.tensor(data_mean, dtype=matgl.float_th))\n",
      "/Library/Frameworks/Python.framework/Versions/3.11/lib/python3.11/site-packages/matgl/apps/pes.py:76: UserWarning: To copy construct from a tensor, it is recommended to use sourceTensor.clone().detach() or sourceTensor.clone().detach().requires_grad_(True), rather than torch.tensor(sourceTensor).\n",
      "  self.register_buffer(\"data_std\", torch.tensor(data_std, dtype=matgl.float_th))\n"
     ]
    }
   ],
   "source": [
    "#from m3gnet.models import M3GNet, M3GNetCalculator, Potential\n",
    "#potential = Potential(M3GNet.load()) #M3GNetのデフォルトポテンシャルを導入　（自分で作ったポテンシャルは要別途指定）\n",
    "#calculator = M3GNetCalculator(potential=potential, stress_weight=0.01)\n",
    "\n",
    "# This is code for mgl\n",
    "import matgl\n",
    "from matgl.ext.ase import M3GNetCalculator\n",
    "potential = matgl.load_model(\"M3GNet-MP-2021.2.8-PES\")\n",
    "calculator = matgl.ext.ase.M3GNetCalculator(potential=potential, stress_weight=0.01)"
   ]
  },
  {
   "cell_type": "markdown",
   "id": "67f62bd2",
   "metadata": {},
   "source": [
    "## M3GNet 構造緩和計算\n",
    "\n",
    "各種アルゴリズムがある(FIRE, LBFGSなど　下記の例はLBFGSを使用)<BR>\n",
    "得られたエネルギー値から電位などを計算することもできる。<BR>\n",
    "NVT-MDを行う前に一度構造緩和計算をすることを推奨（格子定数を適切な値にするため）<BR>"
   ]
  },
  {
   "cell_type": "code",
   "execution_count": 4,
   "id": "51bdf8fb",
   "metadata": {},
   "outputs": [
    {
     "name": "stderr",
     "output_type": "stream",
     "text": [
      "/var/folders/0f/gst3ndcj1gl6tx25nxpl4vh80000gn/T/ipykernel_77736/3295633956.py:11: FutureWarning: Import ExpCellFilter from ase.filters\n",
      "  ucf=ExpCellFilter(atoms1)\n"
     ]
    },
    {
     "name": "stdout",
     "output_type": "stream",
     "text": [
      "Input-file 1: (energy) -190.59022521972656 /eV,   relaxation steps 24 ,  converged: True\n"
     ]
    },
    {
     "name": "stderr",
     "output_type": "stream",
     "text": [
      "/var/folders/0f/gst3ndcj1gl6tx25nxpl4vh80000gn/T/ipykernel_77736/3295633956.py:27: FutureWarning: Import ExpCellFilter from ase.filters\n",
      "  ucf=ExpCellFilter(atoms2)\n"
     ]
    },
    {
     "name": "stdout",
     "output_type": "stream",
     "text": [
      "Input-file 2: (energy) -169.539794921875 /eV,   relaxation steps 53 ,  converged: True\n",
      "Input-file 3: (energy) -3.8039050102233887 /eV,   relaxation steps 2 ,  converged: True\n"
     ]
    },
    {
     "name": "stderr",
     "output_type": "stream",
     "text": [
      "/var/folders/0f/gst3ndcj1gl6tx25nxpl4vh80000gn/T/ipykernel_77736/3295633956.py:43: FutureWarning: Import ExpCellFilter from ase.filters\n",
      "  ucf=ExpCellFilter(atoms3)\n"
     ]
    }
   ],
   "source": [
    "#relax 計算\n",
    "maxstep=2000\n",
    "\n",
    "from ase.optimize import LBFGS, BFGS, FIRE\n",
    "from ase.constraints import FixAtoms, FixedPlane, FixBondLength, UnitCellFilter, ExpCellFilter\n",
    "\n",
    "# \n",
    "#atoms1.set_constraint()\n",
    "#atoms1.set_calculator(calculator)\n",
    "atoms1.calc=calculator\n",
    "ucf=ExpCellFilter(atoms1)\n",
    "opt = LBFGS(ucf, trajectory=\"relax1.traj\",logfile=\"log.relax1\")\n",
    "opt.run(steps=maxstep)                    \n",
    "energy1=atoms1.get_potential_energy()\n",
    "force1=atoms1.get_forces()\n",
    "t=read('relax1.traj',index=':')\n",
    "nt=len(t)\n",
    "if nt== maxstep:\n",
    "    crt=False\n",
    "else:\n",
    "    crt=True\n",
    "print (\"Input-file 1: (energy)\", energy1,\"/eV,   relaxation steps\", nt, \",  converged:\", crt)\n",
    "\n",
    "#atoms2.set_constraint()\n",
    "#atoms2.set_calculator(calculator)\n",
    "atoms2.calc=calculator\n",
    "ucf=ExpCellFilter(atoms2)\n",
    "opt = LBFGS(ucf, trajectory=\"relax2.traj\",logfile=\"log.relax2\")\n",
    "opt.run(steps=maxstep)                    \n",
    "energy2=atoms2.get_potential_energy()\n",
    "force2=atoms2.get_forces()\n",
    "t=read('relax2.traj',index=':')\n",
    "nt=len(t)\n",
    "if nt== maxstep:\n",
    "    crt=False\n",
    "else:\n",
    "    crt=True\n",
    "print (\"Input-file 2: (energy)\", energy2,\"/eV,   relaxation steps\", nt, \",  converged:\", crt)\n",
    "\n",
    "#atoms3.set_constraint()\n",
    "#atoms3.set_calculator(calculator)\n",
    "atoms3.calc=calculator\n",
    "ucf=ExpCellFilter(atoms3)\n",
    "opt = LBFGS(ucf, trajectory=\"relax3.traj\",logfile=\"log.relax3\")\n",
    "opt.run(steps=maxstep)                    \n",
    "energy3=atoms3.get_potential_energy()\n",
    "force3=atoms3.get_forces()\n",
    "t=read('relax3.traj',index=':')\n",
    "nt=len(t)\n",
    "if nt== maxstep:\n",
    "    crt=False\n",
    "else:\n",
    "    crt=True\n",
    "print (\"Input-file 3: (energy)\", energy3,\"/eV,   relaxation steps\", nt, \",  converged:\", crt)\n",
    "\n",
    "\n",
    "# print (\"energy:\",energy)\n",
    "# print (\"cell parameters:\", atoms.get_cell_lengths_and_angles())\n",
    "# maxf = np.sqrt(((force**2).sum(axis=1).max()))\n",
    "# print (\"max force\",maxf)\n",
    "\n",
    "# #ase.io.write(\"CONTCAR\", atoms, format=\"vasp\")\n",
    "# ase.io.write(\"relax.cif\", atoms, format=\"cif\")\n",
    "\n"
   ]
  },
  {
   "cell_type": "markdown",
   "id": "2959be2c",
   "metadata": {},
   "source": [
    "## 電位計算\n",
    "\n",
    "オリビンの場合：  \n",
    "反応式  Li + FePO4 --> LiFePO4  (反応に関与する電子数 n=1)\n",
    "\n",
    "Voltage =  - [ E(LiFePO4) - { n*E(Li) + E(FePO4) }] /n "
   ]
  },
  {
   "cell_type": "code",
   "execution_count": 5,
   "id": "9f030fa5",
   "metadata": {},
   "outputs": [
    {
     "name": "stdout",
     "output_type": "stream",
     "text": [
      "voltage: 3.3606550693511963  /V\n"
     ]
    }
   ],
   "source": [
    "#電位計算\n",
    "\n",
    "voltage=(energy2+(num_gi1-num_gi2)/(num_gi3)*energy3-energy1)/((num_gi1-num_gi2)*charge_gi)\n",
    "\n",
    "print (\"voltage:\", voltage, \" /V\")"
   ]
  },
  {
   "cell_type": "code",
   "execution_count": null,
   "id": "edd09df4",
   "metadata": {},
   "outputs": [],
   "source": [
    "#ファイル出力（構造緩和後）\n",
    "write(\"relax_structure1.cif\",atoms1,format=\"cif\")\n",
    "write(\"relax_structure2.cif\",atoms2,format=\"cif\")\n",
    "write(\"relax_structure3.cif\",atoms3,format=\"cif\")\n"
   ]
  },
  {
   "cell_type": "code",
   "execution_count": 8,
   "id": "48a1e881",
   "metadata": {},
   "outputs": [
    {
     "name": "stdout",
     "output_type": "stream",
     "text": [
      "Cell([4.65491719, 5.9707551, 10.23619605])\n"
     ]
    },
    {
     "name": "stderr",
     "output_type": "stream",
     "text": [
      "/var/folders/0f/gst3ndcj1gl6tx25nxpl4vh80000gn/T/ipykernel_77736/3474069008.py:12: FutureWarning: Import ExpCellFilter from ase.filters\n",
      "  ecf = ExpCellFilter(atoms1, mask=mask)\n"
     ]
    },
    {
     "name": "stdout",
     "output_type": "stream",
     "text": [
      "      Step     Time          Energy          fmax\n",
      "BFGS:    0 17:00:00     -190.180679       26.307216\n",
      "BFGS:    1 17:00:01     -185.667679       80.506578\n",
      "BFGS:    2 17:00:01     -190.327667       14.739340\n",
      "BFGS:    3 17:00:01     -190.292923       23.540860\n",
      "BFGS:    4 17:00:02     -190.463333        1.630482\n",
      "BFGS:    5 17:00:02     -190.475525        0.306142\n",
      "BFGS:    6 17:00:02     -190.487732        3.147047\n",
      "BFGS:    7 17:00:02     -190.493637        2.715340\n",
      "BFGS:    8 17:00:03     -190.504608        1.169696\n",
      "BFGS:    9 17:00:03     -190.508362        1.360683\n",
      "BFGS:   10 17:00:03     -190.512177        0.438127\n",
      "BFGS:   11 17:00:04     -190.514328        0.201442\n",
      "BFGS:   12 17:00:04     -190.517609        0.260838\n",
      "BFGS:   13 17:00:04     -190.518402        0.220431\n",
      "BFGS:   14 17:00:05     -190.523285        0.097682\n",
      "BFGS:   15 17:00:05     -190.523697        0.057871\n",
      "BFGS:   16 17:00:05     -190.524445        0.066984\n",
      "BFGS:   17 17:00:06     -190.525589        0.157135\n",
      "BFGS:   18 17:00:06     -190.527374        0.199577\n",
      "BFGS:   19 17:00:06     -190.528702        0.118560\n",
      "BFGS:   20 17:00:07     -190.529282        0.032148\n",
      "BFGS:   21 17:00:07     -190.529541        0.032097\n",
      "BFGS:   22 17:00:07     -190.530060        0.089900\n",
      "BFGS:   23 17:00:08     -190.530701        0.119112\n",
      "BFGS:   24 17:00:08     -190.531418        0.095364\n",
      "BFGS:   25 17:00:08     -190.531754        0.043378\n",
      "BFGS:   26 17:00:08     -190.531860        0.014655\n",
      "BFGS:   27 17:00:09     -190.531921        0.032886\n",
      "BFGS:   28 17:00:09     -190.532028        0.053333\n",
      "BFGS:   29 17:00:09     -190.532135        0.058330\n",
      "BFGS:   30 17:00:10     -190.532211        0.014857\n",
      "BFGS:   31 17:00:10     -190.532242        0.009888\n"
     ]
    },
    {
     "data": {
      "text/plain": [
       "Cell([4.869549132611826, 5.9707551, 10.23619605])"
      ]
     },
     "execution_count": 8,
     "metadata": {},
     "output_type": "execute_result"
    }
   ],
   "source": [
    "#maskの設定 結果\n",
    "#mask = [[1,1,1], [1,1,1], [1,1,1]] #全方向・全成分緩和（デフォルト）\n",
    "mask = [[1,0,0], [0,0,0], [0,0,0]] #α軸方向のセルのみ変形OK\n",
    "#mask = [[0,0,0], [0,0,0], [0,0,0]] #全セル固定（セル変形なし、原子だけ緩和）\n",
    "#mask = [[1,1,0], [1,1,0], [0,0,0]] #ab面だけ変形OK, c軸は固定\n",
    "\n",
    "atoms1 = read(inpf1)\n",
    "print(atoms1.get_cell())\n",
    "atoms1.calc=calculator\n",
    "\n",
    "# ExpCellFilter に mask を設定\n",
    "ecf = ExpCellFilter(atoms1, mask=mask)\n",
    "\n",
    "#最適化\n",
    "opt = BFGS(ecf)\n",
    "opt.run(fmax=0.01)\n",
    "\n",
    "atoms1.get_cell()"
   ]
  }
 ],
 "metadata": {
  "kernelspec": {
   "display_name": "Python 3",
   "language": "python",
   "name": "python3"
  },
  "language_info": {
   "codemirror_mode": {
    "name": "ipython",
    "version": 3
   },
   "file_extension": ".py",
   "mimetype": "text/x-python",
   "name": "python",
   "nbconvert_exporter": "python",
   "pygments_lexer": "ipython3",
   "version": "3.11.1"
  }
 },
 "nbformat": 4,
 "nbformat_minor": 5
}
