{
 "cells": [
  {
   "cell_type": "code",
   "execution_count": 2,
   "id": "92040f12",
   "metadata": {},
   "outputs": [],
   "source": [
    "from ase.io import read, write\n",
    "from ase.optimize import BFGS, FIRE\n",
    "from ase.calculators.lj import LennardJones\n",
    "\n",
    "# CIFファイルを読み込み\n",
    "atoms = read(\"/Users/andotakuto/Desktop/MI講習会/internship/CIF_file/LaNi5H6_2x2x2.cif\")\n",
    "\n",
    "# ASE 内蔵 LJ 計算器を付与（全元素に同じパラメータが適用される）\n",
    "atoms.calc = LennardJones(epsilon=0.0103, sigma=3.40, rc=10.0)\n",
    "\n",
    "# 原子座標を緩和\n",
    "opt = FIRE(atoms, logfile=\"relax.log\")\n",
    "opt.run(fmax=0.05, steps=2000)\n",
    "\n",
    "# 結果を保存\n",
    "write(\"LaNi5H6_2x2x2_relaxed.cif\", atoms)\n",
    "\n"
   ]
  }
 ],
 "metadata": {
  "kernelspec": {
   "display_name": "Python 3",
   "language": "python",
   "name": "python3"
  },
  "language_info": {
   "codemirror_mode": {
    "name": "ipython",
    "version": 3
   },
   "file_extension": ".py",
   "mimetype": "text/x-python",
   "name": "python",
   "nbconvert_exporter": "python",
   "pygments_lexer": "ipython3",
   "version": "3.11.1"
  }
 },
 "nbformat": 4,
 "nbformat_minor": 5
}
