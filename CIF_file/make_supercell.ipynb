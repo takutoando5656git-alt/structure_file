{
 "cells": [
  {
   "cell_type": "code",
   "execution_count": null,
   "id": "45f7b639",
   "metadata": {},
   "outputs": [
    {
     "name": "stdout",
     "output_type": "stream",
     "text": [
      "✅ インデックス付きスーパーセルCIFを保存しました\n"
     ]
    }
   ],
   "source": [
    "from pymatgen.core import Structure\n",
    "\n",
    "# ===== 入力 =====\n",
    "//CIF_LaNi5H6 = \"LaNi5H6.cif\"   # MPからダウンロードした CIF (H入り)\n",
    "SUPERCELL = (2, 2, 2)         # スーパーセル倍率\n",
    "\n",
    "# ===== 1. LaNi5H6 を読み込み =====\n",
    "la_ni5h6 = Structure.from_file(CIF_LaNi5H6)\n",
    "la_ni5h6.remove_oxidation_states()\n",
    "\n",
    "# ===== 2. Hを削除して LaNi5 を作成 =====\n",
    "la_ni5 = la_ni5h6.copy()\n",
    "la_ni5.remove_species([\"H\"])\n",
    "\n",
    "# ===== 3. スーパーセルを作成 =====\n",
    "la_ni5_sc = la_ni5 * SUPERCELL\n",
    "la_ni5h6_sc = la_ni5h6 * SUPERCELL\n",
    "\n",
    "# ===== 4. Niサイトにインデックスを付与 =====\n",
    "def relabel_sites(struct: Structure, prefix=\"\"):\n",
    "    struct = struct.copy()\n",
    "    counters = {}\n",
    "    for i, site in enumerate(struct):\n",
    "        el = site.species_string\n",
    "        if el == \"Ni\":\n",
    "            # Niごとに通し番号を振る\n",
    "            label = f\"Ni_{i}\"\n",
    "        else:\n",
    "            # 他の元素はそのまま\n",
    "            if el not in counters:\n",
    "                counters[el] = 0\n",
    "            label = f\"{el}_{counters[el]}\"\n",
    "            counters[el] += 1\n",
    "        # propertiesにラベルを保持\n",
    "        struct[i].properties[\"label\"] = label\n",
    "    return struct\n",
    "\n",
    "la_ni5_sc_labeled   = relabel_sites(la_ni5_sc, \"LaNi5\")\n",
    "la_ni5h6_sc_labeled = relabel_sites(la_ni5h6_sc, \"LaNi5H6\")\n",
    "\n",
    "# ===== 5. CIF出力 =====\n",
    "la_ni5_sc_labeled.to(fmt=\"cif\", filename=f\"LaNi5_{SUPERCELL[0]}x{SUPERCELL[1]}x{SUPERCELL[2]}_labeled.cif\")\n",
    "la_ni5h6_sc_labeled.to(fmt=\"cif\", filename=f\"LaNi5H6_{SUPERCELL[0]}x{SUPERCELL[1]}x{SUPERCELL[2]}_labeled.cif\")\n",
    "\n",
    "print(\"✅ インデックス付きスーパーセルCIFを保存しました\")\n"
   ]
  }
 ],
 "metadata": {
  "kernelspec": {
   "display_name": "Python 3",
   "language": "python",
   "name": "python3"
  },
  "language_info": {
   "codemirror_mode": {
    "name": "ipython",
    "version": 3
   },
   "file_extension": ".py",
   "mimetype": "text/x-python",
   "name": "python",
   "nbconvert_exporter": "python",
   "pygments_lexer": "ipython3",
   "version": "3.11.1"
  }
 },
 "nbformat": 4,
 "nbformat_minor": 5
}
